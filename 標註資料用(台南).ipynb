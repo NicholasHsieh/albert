{
 "cells": [
  {
   "cell_type": "code",
   "execution_count": 1,
   "metadata": {},
   "outputs": [
    {
     "name": "stdout",
     "output_type": "stream",
     "text": [
      "刑事判決_105,交易,101_2016-03-29.json\n"
     ]
    }
   ],
   "source": [
    "import os, json \n",
    "import pandas as pd \n",
    "\n",
    "path_to_json = 'D:\\判決書資料\\標註資料集(台南)' \n",
    "json_files = [pos_json for pos_json in os.listdir(path_to_json) if pos_json.endswith('.json')] \n",
    "print(json_files[0])"
   ]
  },
  {
   "cell_type": "code",
   "execution_count": 2,
   "metadata": {},
   "outputs": [],
   "source": [
    "with open('D:/判決書資料/標註資料集(台南)/'+json_files[0],\"r\",encoding=\"utf-8\") as f:\n",
    "    data = json.load(f)"
   ]
  },
  {
   "cell_type": "code",
   "execution_count": 3,
   "metadata": {},
   "outputs": [
    {
     "data": {
      "text/html": [
       "<div>\n",
       "<style scoped>\n",
       "    .dataframe tbody tr th:only-of-type {\n",
       "        vertical-align: middle;\n",
       "    }\n",
       "\n",
       "    .dataframe tbody tr th {\n",
       "        vertical-align: top;\n",
       "    }\n",
       "\n",
       "    .dataframe thead th {\n",
       "        text-align: right;\n",
       "    }\n",
       "</style>\n",
       "<table border=\"1\" class=\"dataframe\">\n",
       "  <thead>\n",
       "    <tr style=\"text-align: right;\">\n",
       "      <th></th>\n",
       "      <th>court</th>\n",
       "      <th>date</th>\n",
       "      <th>id</th>\n",
       "      <th>mainText</th>\n",
       "      <th>no</th>\n",
       "      <th>reason</th>\n",
       "      <th>sys</th>\n",
       "      <th>type</th>\n",
       "    </tr>\n",
       "  </thead>\n",
       "  <tbody>\n",
       "    <tr>\n",
       "      <th>0</th>\n",
       "      <td>臺灣臺南地方法院</td>\n",
       "      <td>2016-03-29T00:00:00+08:00</td>\n",
       "      <td>start</td>\n",
       "      <td>本件公訴不受理。</td>\n",
       "      <td>105,交易,101</td>\n",
       "      <td>業務過失傷害</td>\n",
       "      <td>刑事</td>\n",
       "      <td>判決</td>\n",
       "    </tr>\n",
       "  </tbody>\n",
       "</table>\n",
       "</div>"
      ],
      "text/plain": [
       "      court                       date     id  mainText          no  reason  \\\n",
       "0  臺灣臺南地方法院  2016-03-29T00:00:00+08:00  start  本件公訴不受理。  105,交易,101  業務過失傷害   \n",
       "\n",
       "  sys type  \n",
       "0  刑事   判決  "
      ]
     },
     "execution_count": 3,
     "metadata": {},
     "output_type": "execute_result"
    }
   ],
   "source": [
    "dic = {\n",
    "    \"id\": \"start\",\n",
    "    \"court\": [data[\"court\"]], \n",
    "    \"date\": [data[\"date\"]],\n",
    "    \"no\": [data[\"no\"]],\n",
    "    \"sys\": [data[\"sys\"]],\n",
    "    \"reason\": [data[\"reason\"]],\n",
    "    \"type\": [data[\"type\"]],\n",
    "    \"mainText\": [data[\"mainText\"]]\n",
    "}\n",
    "df = pd.DataFrame(dic)\n",
    "df"
   ]
  },
  {
   "cell_type": "code",
   "execution_count": null,
   "metadata": {},
   "outputs": [],
   "source": [
    "with open('D:/判決書資料/標註資料集(台南)/'+json_files[0],\"r\",encoding=\"utf-8\") as f:\n",
    "    data1 = json.load(f)\n",
    "    \n",
    "dic1 = {\n",
    "    \"court\": [data1[\"court\"]], \n",
    "    \"date\": [data1[\"date\"]],\n",
    "    \"no\": [data1[\"no\"]],\n",
    "    \"sys\": [data1[\"sys\"]],\n",
    "    \"reason\": [data1[\"reason\"]],\n",
    "    \"type\": [data1[\"type\"]],\n",
    "    \"mainText\": [data1[\"mainText\"]],\n",
    "    \"judgement\": [data1[\"judgement\"]]\n",
    "}\n",
    "df1 = pd.DataFrame(dic1)\n",
    "df1"
   ]
  },
  {
   "cell_type": "code",
   "execution_count": null,
   "metadata": {},
   "outputs": [],
   "source": [
    "import cgi\n",
    "import cgitb\n",
    "import json\n",
    "\n",
    "with open('D:/判決書資料/標註資料集(台南)/'+json_files[0],\"r\",encoding=\"utf-8\") as f:\n",
    " data2 = json.load(f)\n",
    " data2[\"court\"] =\"臺灣臺南地方法院\"\n",
    " data2.setdefault('judgement_SIT',data2[\"judgement\"])\n",
    "\n",
    " #result.append(temp)\n",
    " #f.write(json.dumps(result,ensure_ascii=False))\n",
    "    \n",
    "print(data2)\n",
    " #f.seek(0) # rewind\n",
    " #f.write(json.dumps(data))\n",
    " #f.truncate()\n",
    "\n",
    "#newJsonFile = open('D:/判決書資料/標註資料集(台南)/'+json_files[0],\"r\",encoding=\"utf-8\")\n",
    "#newData = json.load(newJsonFile)\n",
    "\n",
    "#cgitb.enable()"
   ]
  },
  {
   "cell_type": "code",
   "execution_count": null,
   "metadata": {},
   "outputs": [],
   "source": [
    "print(data2[\"judgement_SIT\"])"
   ]
  },
  {
   "cell_type": "code",
   "execution_count": null,
   "metadata": {},
   "outputs": [],
   "source": [
    "data1[\"judgement\"]"
   ]
  },
  {
   "cell_type": "code",
   "execution_count": 4,
   "metadata": {},
   "outputs": [],
   "source": [
    "for x in range(1,38327):\n",
    "    with open('D:/判決書資料/標註資料集(台南)/'+json_files[x],\"r\",encoding=\"utf-8\") as f:\n",
    "        data = json.load(f)\n",
    "    \n",
    "    try:\n",
    "        new = pd.DataFrame({\n",
    "        \"id\": x,\n",
    "        \"court\": [data[\"court\"]], \n",
    "        \"date\": [data[\"date\"]],\n",
    "        \"no\": [data[\"no\"]],\n",
    "        \"sys\": [data[\"sys\"]],\n",
    "        \"reason\": [data[\"reason\"]],\n",
    "        \"type\": [data[\"type\"]],\n",
    "        \"mainText\": [data[\"mainText\"]]  \n",
    "        })\n",
    "        #print(x)\n",
    "        \n",
    "    except:\n",
    "        print(x)\n",
    "\n",
    "    df = df.append(new)"
   ]
  },
  {
   "cell_type": "code",
   "execution_count": null,
   "metadata": {},
   "outputs": [],
   "source": [
    "df.to_csv('D:/Result.csv') "
   ]
  },
  {
   "cell_type": "code",
   "execution_count": null,
   "metadata": {},
   "outputs": [],
   "source": [
    "df[df['reason'] == ('違反毒品危害防制條例')].head(10)"
   ]
  },
  {
   "cell_type": "code",
   "execution_count": null,
   "metadata": {},
   "outputs": [],
   "source": [
    "df[df['reason'].str.contains ('')].head(10)"
   ]
  },
  {
   "cell_type": "code",
   "execution_count": null,
   "metadata": {},
   "outputs": [],
   "source": [
    "df[df['reason'] == ('公共危險')].head(30)"
   ]
  },
  {
   "cell_type": "code",
   "execution_count": null,
   "metadata": {},
   "outputs": [],
   "source": [
    "df[df['reason'] == ('妨害性自主')].head(10)"
   ]
  },
  {
   "cell_type": "code",
   "execution_count": null,
   "metadata": {},
   "outputs": [],
   "source": [
    "df[df['reason'] == ('妨害公務')].head(10)"
   ]
  },
  {
   "cell_type": "code",
   "execution_count": null,
   "metadata": {},
   "outputs": [],
   "source": [
    "df[df['reason'] == ('違反著作權法')].head(10)"
   ]
  },
  {
   "cell_type": "code",
   "execution_count": null,
   "metadata": {},
   "outputs": [],
   "source": [
    "df[df['reason'] == ('詐欺')].head(20)"
   ]
  },
  {
   "cell_type": "code",
   "execution_count": null,
   "metadata": {},
   "outputs": [],
   "source": [
    "df[df['reason'] == ('竊盜')].iloc[450:460]"
   ]
  },
  {
   "cell_type": "code",
   "execution_count": null,
   "metadata": {},
   "outputs": [],
   "source": [
    "df[df['reason'] == ('賭博')].iloc[40:50]"
   ]
  },
  {
   "cell_type": "code",
   "execution_count": null,
   "metadata": {},
   "outputs": [],
   "source": [
    "df[df['reason'] == ('妨害風化')].iloc[230:240]"
   ]
  },
  {
   "cell_type": "code",
   "execution_count": null,
   "metadata": {},
   "outputs": [],
   "source": [
    "df[df['reason'] == ('公共危險')].iloc[60:70]"
   ]
  },
  {
   "cell_type": "code",
   "execution_count": null,
   "metadata": {},
   "outputs": [],
   "source": [
    "df[df['reason'] == ('妨害性自主')].iloc[40:50]"
   ]
  },
  {
   "cell_type": "code",
   "execution_count": null,
   "metadata": {},
   "outputs": [],
   "source": [
    "df[df['reason'] == ('違反著作權法')].iloc[40:50]"
   ]
  },
  {
   "cell_type": "code",
   "execution_count": null,
   "metadata": {},
   "outputs": [],
   "source": [
    "df[df['reason'] == ('搶奪')].iloc[0:10]"
   ]
  },
  {
   "cell_type": "code",
   "execution_count": 5,
   "metadata": {},
   "outputs": [
    {
     "data": {
      "text/html": [
       "<div>\n",
       "<style scoped>\n",
       "    .dataframe tbody tr th:only-of-type {\n",
       "        vertical-align: middle;\n",
       "    }\n",
       "\n",
       "    .dataframe tbody tr th {\n",
       "        vertical-align: top;\n",
       "    }\n",
       "\n",
       "    .dataframe thead th {\n",
       "        text-align: right;\n",
       "    }\n",
       "</style>\n",
       "<table border=\"1\" class=\"dataframe\">\n",
       "  <thead>\n",
       "    <tr style=\"text-align: right;\">\n",
       "      <th></th>\n",
       "      <th>court</th>\n",
       "      <th>date</th>\n",
       "      <th>id</th>\n",
       "      <th>mainText</th>\n",
       "      <th>no</th>\n",
       "      <th>reason</th>\n",
       "      <th>sys</th>\n",
       "      <th>type</th>\n",
       "    </tr>\n",
       "  </thead>\n",
       "  <tbody>\n",
       "    <tr>\n",
       "      <th>0</th>\n",
       "      <td>臺灣臺南地方法院</td>\n",
       "      <td>2017-11-28T00:00:00+08:00</td>\n",
       "      <td>25626</td>\n",
       "      <td>原判決撤銷。\\n蕭冬康犯誹謗罪，處拘役貳拾伍日，如易科罰金，以新臺幣壹仟元折算壹日。</td>\n",
       "      <td>106,簡上,266</td>\n",
       "      <td>妨害名譽</td>\n",
       "      <td>刑事</td>\n",
       "      <td>判決</td>\n",
       "    </tr>\n",
       "    <tr>\n",
       "      <th>0</th>\n",
       "      <td>臺灣臺南地方法院</td>\n",
       "      <td>2018-05-23T00:00:00+08:00</td>\n",
       "      <td>25701</td>\n",
       "      <td>上訴駁回。</td>\n",
       "      <td>106,簡上,371</td>\n",
       "      <td>妨害名譽</td>\n",
       "      <td>刑事</td>\n",
       "      <td>判決</td>\n",
       "    </tr>\n",
       "    <tr>\n",
       "      <th>0</th>\n",
       "      <td>臺灣臺南地方法院</td>\n",
       "      <td>2017-08-25T00:00:00+08:00</td>\n",
       "      <td>25788</td>\n",
       "      <td>黃子馨無罪。\\n其餘被訴違反著作權法、妨害秘密部分不受理。</td>\n",
       "      <td>106,自,2</td>\n",
       "      <td>妨害名譽</td>\n",
       "      <td>刑事</td>\n",
       "      <td>判決</td>\n",
       "    </tr>\n",
       "    <tr>\n",
       "      <th>0</th>\n",
       "      <td>臺灣臺南地方法院</td>\n",
       "      <td>2018-12-20T00:00:00+08:00</td>\n",
       "      <td>32952</td>\n",
       "      <td>本件公訴不受理。</td>\n",
       "      <td>107,易,1721</td>\n",
       "      <td>妨害名譽</td>\n",
       "      <td>刑事</td>\n",
       "      <td>判決</td>\n",
       "    </tr>\n",
       "    <tr>\n",
       "      <th>0</th>\n",
       "      <td>臺灣臺南地方法院</td>\n",
       "      <td>2018-07-25T00:00:00+08:00</td>\n",
       "      <td>34401</td>\n",
       "      <td>何金腰意圖散布於眾，而指摘足以毀損他人名譽之事，處拘役參拾伍日，如易科罰金，以新臺幣壹仟元折...</td>\n",
       "      <td>107,簡,1891</td>\n",
       "      <td>妨害名譽</td>\n",
       "      <td>刑事</td>\n",
       "      <td>判決</td>\n",
       "    </tr>\n",
       "    <tr>\n",
       "      <th>0</th>\n",
       "      <td>臺灣臺南地方法院</td>\n",
       "      <td>2018-09-04T00:00:00+08:00</td>\n",
       "      <td>35195</td>\n",
       "      <td>林育政犯散布文字誹謗罪，處拘役參拾日，如易科罰金，以新臺幣壹仟元折算壹日。</td>\n",
       "      <td>107,簡,2692</td>\n",
       "      <td>妨害名譽</td>\n",
       "      <td>刑事</td>\n",
       "      <td>判決</td>\n",
       "    </tr>\n",
       "    <tr>\n",
       "      <th>0</th>\n",
       "      <td>臺灣臺南地方法院</td>\n",
       "      <td>2018-12-25T00:00:00+08:00</td>\n",
       "      <td>36290</td>\n",
       "      <td>王萬龍犯散布文字誹謗罪，處拘役貳拾日，如易科罰金，以新臺幣壹仟元折算壹日。</td>\n",
       "      <td>107,簡,3889</td>\n",
       "      <td>妨害名譽</td>\n",
       "      <td>刑事</td>\n",
       "      <td>判決</td>\n",
       "    </tr>\n",
       "    <tr>\n",
       "      <th>0</th>\n",
       "      <td>臺灣臺南地方法院</td>\n",
       "      <td>2018-06-20T00:00:00+08:00</td>\n",
       "      <td>36507</td>\n",
       "      <td>徐道明犯公然侮辱罪，處罰金新臺幣參仟元，如易服勞役，以新臺幣壹仟元折算壹日。\\n陳麗真犯誹謗...</td>\n",
       "      <td>107,簡,556</td>\n",
       "      <td>妨害名譽</td>\n",
       "      <td>刑事</td>\n",
       "      <td>判決</td>\n",
       "    </tr>\n",
       "    <tr>\n",
       "      <th>0</th>\n",
       "      <td>臺灣臺南地方法院</td>\n",
       "      <td>2018-12-10T00:00:00+08:00</td>\n",
       "      <td>37141</td>\n",
       "      <td>杜英傑無罪。</td>\n",
       "      <td>107,自,3</td>\n",
       "      <td>妨害名譽</td>\n",
       "      <td>刑事</td>\n",
       "      <td>判決</td>\n",
       "    </tr>\n",
       "  </tbody>\n",
       "</table>\n",
       "</div>"
      ],
      "text/plain": [
       "      court                       date     id  \\\n",
       "0  臺灣臺南地方法院  2017-11-28T00:00:00+08:00  25626   \n",
       "0  臺灣臺南地方法院  2018-05-23T00:00:00+08:00  25701   \n",
       "0  臺灣臺南地方法院  2017-08-25T00:00:00+08:00  25788   \n",
       "0  臺灣臺南地方法院  2018-12-20T00:00:00+08:00  32952   \n",
       "0  臺灣臺南地方法院  2018-07-25T00:00:00+08:00  34401   \n",
       "0  臺灣臺南地方法院  2018-09-04T00:00:00+08:00  35195   \n",
       "0  臺灣臺南地方法院  2018-12-25T00:00:00+08:00  36290   \n",
       "0  臺灣臺南地方法院  2018-06-20T00:00:00+08:00  36507   \n",
       "0  臺灣臺南地方法院  2018-12-10T00:00:00+08:00  37141   \n",
       "\n",
       "                                            mainText          no reason sys  \\\n",
       "0         原判決撤銷。\\n蕭冬康犯誹謗罪，處拘役貳拾伍日，如易科罰金，以新臺幣壹仟元折算壹日。  106,簡上,266   妨害名譽  刑事   \n",
       "0                                              上訴駁回。  106,簡上,371   妨害名譽  刑事   \n",
       "0                      黃子馨無罪。\\n其餘被訴違反著作權法、妨害秘密部分不受理。     106,自,2   妨害名譽  刑事   \n",
       "0                                           本件公訴不受理。  107,易,1721   妨害名譽  刑事   \n",
       "0  何金腰意圖散布於眾，而指摘足以毀損他人名譽之事，處拘役參拾伍日，如易科罰金，以新臺幣壹仟元折...  107,簡,1891   妨害名譽  刑事   \n",
       "0              林育政犯散布文字誹謗罪，處拘役參拾日，如易科罰金，以新臺幣壹仟元折算壹日。  107,簡,2692   妨害名譽  刑事   \n",
       "0              王萬龍犯散布文字誹謗罪，處拘役貳拾日，如易科罰金，以新臺幣壹仟元折算壹日。  107,簡,3889   妨害名譽  刑事   \n",
       "0  徐道明犯公然侮辱罪，處罰金新臺幣參仟元，如易服勞役，以新臺幣壹仟元折算壹日。\\n陳麗真犯誹謗...   107,簡,556   妨害名譽  刑事   \n",
       "0                                             杜英傑無罪。     107,自,3   妨害名譽  刑事   \n",
       "\n",
       "  type  \n",
       "0   判決  \n",
       "0   判決  \n",
       "0   判決  \n",
       "0   判決  \n",
       "0   判決  \n",
       "0   判決  \n",
       "0   判決  \n",
       "0   判決  \n",
       "0   判決  "
      ]
     },
     "execution_count": 5,
     "metadata": {},
     "output_type": "execute_result"
    }
   ],
   "source": [
    "df[df['reason'] == ('妨害名譽')].iloc[50:60]"
   ]
  },
  {
   "cell_type": "code",
   "execution_count": null,
   "metadata": {},
   "outputs": [],
   "source": [
    "馨無罪。\n",
    "其餘被訴違反著作權法、"
   ]
  },
  {
   "cell_type": "code",
   "execution_count": null,
   "metadata": {},
   "outputs": [],
   "source": [
    "馨無罪。\n",
    "其餘被訴違反著作權法、"
   ]
  }
 ],
 "metadata": {
  "kernelspec": {
   "display_name": "Python 3",
   "language": "python",
   "name": "python3"
  },
  "language_info": {
   "codemirror_mode": {
    "name": "ipython",
    "version": 3
   },
   "file_extension": ".py",
   "mimetype": "text/x-python",
   "name": "python",
   "nbconvert_exporter": "python",
   "pygments_lexer": "ipython3",
   "version": "3.6.4"
  }
 },
 "nbformat": 4,
 "nbformat_minor": 2
}
