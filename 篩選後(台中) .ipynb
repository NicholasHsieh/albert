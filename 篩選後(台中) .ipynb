{
 "cells": [
  {
   "cell_type": "code",
   "execution_count": 1,
   "metadata": {},
   "outputs": [
    {
     "name": "stdout",
     "output_type": "stream",
     "text": [
      "刑事判決_105,中交簡,1002_2016-04-25.json\n"
     ]
    }
   ],
   "source": [
    "import os, json \n",
    "import pandas as pd \n",
    "\n",
    "path_to_json = 'D:/篩選判決書/判決書篩選可截取情境(台中)' \n",
    "json_files = [pos_json for pos_json in os.listdir(path_to_json) if pos_json.endswith('.json')] \n",
    "print(json_files[0])"
   ]
  },
  {
   "cell_type": "code",
   "execution_count": 2,
   "metadata": {},
   "outputs": [],
   "source": [
    "with open('D:/篩選判決書/判決書篩選可截取情境(台中)/'+json_files[0],\"r\",encoding=\"utf-8\") as f:\n",
    "    data = json.load(f)"
   ]
  },
  {
   "cell_type": "code",
   "execution_count": 3,
   "metadata": {},
   "outputs": [
    {
     "data": {
      "text/html": [
       "<div>\n",
       "<style scoped>\n",
       "    .dataframe tbody tr th:only-of-type {\n",
       "        vertical-align: middle;\n",
       "    }\n",
       "\n",
       "    .dataframe tbody tr th {\n",
       "        vertical-align: top;\n",
       "    }\n",
       "\n",
       "    .dataframe thead th {\n",
       "        text-align: right;\n",
       "    }\n",
       "</style>\n",
       "<table border=\"1\" class=\"dataframe\">\n",
       "  <thead>\n",
       "    <tr style=\"text-align: right;\">\n",
       "      <th></th>\n",
       "      <th>court</th>\n",
       "      <th>date</th>\n",
       "      <th>id</th>\n",
       "      <th>mainText</th>\n",
       "      <th>no</th>\n",
       "      <th>reason</th>\n",
       "      <th>sys</th>\n",
       "      <th>type</th>\n",
       "    </tr>\n",
       "  </thead>\n",
       "  <tbody>\n",
       "    <tr>\n",
       "      <th>0</th>\n",
       "      <td>臺灣臺中地方法院</td>\n",
       "      <td>2016-04-25T00:00:00+08:00</td>\n",
       "      <td>start</td>\n",
       "      <td>周文同駕駛動力交通工具而吐氣所含酒精濃度達每公升零點二五毫克以上，處有期徒刑貳月，如易科罰金...</td>\n",
       "      <td>105,中交簡,1002</td>\n",
       "      <td>公共危險</td>\n",
       "      <td>刑事</td>\n",
       "      <td>判決</td>\n",
       "    </tr>\n",
       "  </tbody>\n",
       "</table>\n",
       "</div>"
      ],
      "text/plain": [
       "      court                       date     id  \\\n",
       "0  臺灣臺中地方法院  2016-04-25T00:00:00+08:00  start   \n",
       "\n",
       "                                            mainText            no reason sys  \\\n",
       "0  周文同駕駛動力交通工具而吐氣所含酒精濃度達每公升零點二五毫克以上，處有期徒刑貳月，如易科罰金...  105,中交簡,1002   公共危險  刑事   \n",
       "\n",
       "  type  \n",
       "0   判決  "
      ]
     },
     "execution_count": 3,
     "metadata": {},
     "output_type": "execute_result"
    }
   ],
   "source": [
    "dic = {\n",
    "    \"id\": \"start\",\n",
    "    \"court\": [data[\"court\"]], \n",
    "    \"date\": [data[\"date\"]],\n",
    "    \"no\": [data[\"no\"]],\n",
    "    \"sys\": [data[\"sys\"]],\n",
    "    \"reason\": [data[\"reason\"]],\n",
    "    \"type\": [data[\"type\"]],\n",
    "    \"mainText\": [data[\"mainText\"]]\n",
    "}\n",
    "df = pd.DataFrame(dic)\n",
    "df"
   ]
  },
  {
   "cell_type": "code",
   "execution_count": 4,
   "metadata": {},
   "outputs": [],
   "source": [
    "import json\n",
    "\n",
    "for x in range(1,26256):\n",
    "    with open('D:/篩選判決書/判決書篩選可截取情境(台中)/'+json_files[x],\"r\",encoding=\"utf-8\") as f:\n",
    "        data = json.load(f)\n",
    "    \n",
    "    try:\n",
    "        new = pd.DataFrame({\n",
    "        \"id\": x,\n",
    "        \"court\": [data[\"court\"]], \n",
    "        \"date\": [data[\"date\"]],\n",
    "        \"no\": [data[\"no\"]],\n",
    "        \"sys\": [data[\"sys\"]],\n",
    "        \"reason\": [data[\"reason\"]],\n",
    "        \"type\": [data[\"type\"]],\n",
    "        \"mainText\": [data[\"mainText\"]]  \n",
    "        })\n",
    "        #print(x)\n",
    "        \n",
    "    except:\n",
    "        print(x)\n",
    "\n",
    "    df = df.append(new)\n",
    "    \n",
    "#     with open('D:/篩選判決書/判決書篩選可截取情境(台中)/'+json_files[x],\"r\",encoding=\"utf-8\") as f:\n",
    "#      data2 = json.load(f)\n",
    "#      data2[\"judgement\"] = data2[\"judgement\"].replace(\"\\r\", \"\").replace(\"\\n\", \"\").replace(\" \", \"\").replace(\"　\", \"\")\n",
    "#      data2.setdefault('judgement_SIT',data2[\"judgement\"])\n",
    "#      data2.setdefault('Situation','')\n",
    "\n",
    "#     with open('D:/篩選判決書/判決書篩選可截取情境(台中)/'+json_files[x], 'w', encoding='utf-8') as f:\n",
    "#      json.dump(data2, f, ensure_ascii=False)"
   ]
  },
  {
   "cell_type": "code",
   "execution_count": null,
   "metadata": {},
   "outputs": [],
   "source": [
    "data2[\"judgement\"]"
   ]
  },
  {
   "cell_type": "code",
   "execution_count": null,
   "metadata": {},
   "outputs": [],
   "source": [
    "df.to_csv('D:/Result.csv') "
   ]
  },
  {
   "cell_type": "code",
   "execution_count": null,
   "metadata": {},
   "outputs": [],
   "source": [
    "df[df['reason'] == ('違反毒品危害防制條例')].head(10)"
   ]
  },
  {
   "cell_type": "code",
   "execution_count": null,
   "metadata": {},
   "outputs": [],
   "source": [
    "df[df['reason'].str.contains ('')].head(10)"
   ]
  },
  {
   "cell_type": "code",
   "execution_count": null,
   "metadata": {},
   "outputs": [],
   "source": [
    "df[df['reason'] == ('公共危險')].head(30)"
   ]
  },
  {
   "cell_type": "code",
   "execution_count": null,
   "metadata": {},
   "outputs": [],
   "source": [
    "df[df['reason'] == ('妨害性自主')].head(10)"
   ]
  },
  {
   "cell_type": "code",
   "execution_count": null,
   "metadata": {},
   "outputs": [],
   "source": [
    "df[df['reason'] == ('妨害公務')].head(10)"
   ]
  },
  {
   "cell_type": "code",
   "execution_count": null,
   "metadata": {},
   "outputs": [],
   "source": [
    "df[df['reason'] == ('違反著作權法')].head(10)"
   ]
  },
  {
   "cell_type": "code",
   "execution_count": null,
   "metadata": {},
   "outputs": [],
   "source": [
    "df[df['reason'] == ('詐欺')].head(20)"
   ]
  },
  {
   "cell_type": "code",
   "execution_count": 9,
   "metadata": {},
   "outputs": [
    {
     "data": {
      "text/html": [
       "<div>\n",
       "<style scoped>\n",
       "    .dataframe tbody tr th:only-of-type {\n",
       "        vertical-align: middle;\n",
       "    }\n",
       "\n",
       "    .dataframe tbody tr th {\n",
       "        vertical-align: top;\n",
       "    }\n",
       "\n",
       "    .dataframe thead th {\n",
       "        text-align: right;\n",
       "    }\n",
       "</style>\n",
       "<table border=\"1\" class=\"dataframe\">\n",
       "  <thead>\n",
       "    <tr style=\"text-align: right;\">\n",
       "      <th></th>\n",
       "      <th>court</th>\n",
       "      <th>date</th>\n",
       "      <th>id</th>\n",
       "      <th>mainText</th>\n",
       "      <th>no</th>\n",
       "      <th>reason</th>\n",
       "      <th>sys</th>\n",
       "      <th>type</th>\n",
       "    </tr>\n",
       "  </thead>\n",
       "  <tbody>\n",
       "    <tr>\n",
       "      <th>0</th>\n",
       "      <td>臺灣臺中地方法院</td>\n",
       "      <td>2016-03-18T00:00:00+08:00</td>\n",
       "      <td>2126</td>\n",
       "      <td>吳家源在公眾得出入之場所賭博財物，處罰金新臺幣伍仟元，如易服勞役，以新臺幣壹仟元折算壹日。扣...</td>\n",
       "      <td>105,中簡,277</td>\n",
       "      <td>賭博</td>\n",
       "      <td>刑事</td>\n",
       "      <td>判決</td>\n",
       "    </tr>\n",
       "    <tr>\n",
       "      <th>0</th>\n",
       "      <td>臺灣臺中地方法院</td>\n",
       "      <td>2016-02-25T00:00:00+08:00</td>\n",
       "      <td>2128</td>\n",
       "      <td>賴穎學犯賭博罪，處罰金新臺幣肆仟元，如易服勞役，以新臺幣壹仟元折算壹日。</td>\n",
       "      <td>105,中簡,279</td>\n",
       "      <td>賭博</td>\n",
       "      <td>刑事</td>\n",
       "      <td>判決</td>\n",
       "    </tr>\n",
       "    <tr>\n",
       "      <th>0</th>\n",
       "      <td>臺灣臺中地方法院</td>\n",
       "      <td>2016-01-25T00:00:00+08:00</td>\n",
       "      <td>2129</td>\n",
       "      <td>林葉月敏共同意圖營利，聚眾賭博，處有期徒刑貳月，如易科罰金，以新臺幣壹仟元折算壹日。</td>\n",
       "      <td>105,中簡,27</td>\n",
       "      <td>賭博</td>\n",
       "      <td>刑事</td>\n",
       "      <td>判決</td>\n",
       "    </tr>\n",
       "    <tr>\n",
       "      <th>0</th>\n",
       "      <td>臺灣臺中地方法院</td>\n",
       "      <td>2016-03-22T00:00:00+08:00</td>\n",
       "      <td>2135</td>\n",
       "      <td>丁佳宏共同意圖營利，聚眾賭博，處有期徒刑參月，如易科罰金，以新臺幣壹仟元折算壹日。扣案之六合...</td>\n",
       "      <td>105,中簡,299</td>\n",
       "      <td>賭博</td>\n",
       "      <td>刑事</td>\n",
       "      <td>判決</td>\n",
       "    </tr>\n",
       "    <tr>\n",
       "      <th>0</th>\n",
       "      <td>臺灣臺中地方法院</td>\n",
       "      <td>2016-03-02T00:00:00+08:00</td>\n",
       "      <td>2136</td>\n",
       "      <td>連惠芳共同意圖營利，聚眾賭博，處有期徒刑參月，如易科罰金，以新臺幣壹仟元折算壹日。扣案簽注單...</td>\n",
       "      <td>105,中簡,302</td>\n",
       "      <td>賭博</td>\n",
       "      <td>刑事</td>\n",
       "      <td>判決</td>\n",
       "    </tr>\n",
       "    <tr>\n",
       "      <th>0</th>\n",
       "      <td>臺灣臺中地方法院</td>\n",
       "      <td>2016-03-03T00:00:00+08:00</td>\n",
       "      <td>2138</td>\n",
       "      <td>張惠寬共同意圖營利，聚眾賭博，處有期徒刑陸月，如易科罰金，以新臺幣壹仟元折算壹日。扣案之六合...</td>\n",
       "      <td>105,中簡,308</td>\n",
       "      <td>賭博</td>\n",
       "      <td>刑事</td>\n",
       "      <td>判決</td>\n",
       "    </tr>\n",
       "    <tr>\n",
       "      <th>0</th>\n",
       "      <td>臺灣臺中地方法院</td>\n",
       "      <td>2016-05-23T00:00:00+08:00</td>\n",
       "      <td>2139</td>\n",
       "      <td>汪月惠意圖營利，聚眾賭博，處有期徒刑參月，如易科罰金，以新臺幣壹仟元折算壹日。扣案如附表所示...</td>\n",
       "      <td>105,中簡,311</td>\n",
       "      <td>賭博</td>\n",
       "      <td>刑事</td>\n",
       "      <td>判決</td>\n",
       "    </tr>\n",
       "    <tr>\n",
       "      <th>0</th>\n",
       "      <td>臺灣臺中地方法院</td>\n",
       "      <td>2016-03-11T00:00:00+08:00</td>\n",
       "      <td>2145</td>\n",
       "      <td>陳文洋犯賭博罪，處罰金新臺幣捌仟元，如易服勞役，以新臺幣壹仟元折算壹日。扣案之簽注單壹張，沒收。</td>\n",
       "      <td>105,中簡,326</td>\n",
       "      <td>賭博</td>\n",
       "      <td>刑事</td>\n",
       "      <td>判決</td>\n",
       "    </tr>\n",
       "    <tr>\n",
       "      <th>0</th>\n",
       "      <td>臺灣臺中地方法院</td>\n",
       "      <td>2016-03-31T00:00:00+08:00</td>\n",
       "      <td>2156</td>\n",
       "      <td>劉學仁意圖營利，聚眾賭博，處有期徒刑參月，如易科罰金，以新臺幣壹仟元折算壹日；扣案之六合彩簽...</td>\n",
       "      <td>105,中簡,354</td>\n",
       "      <td>賭博</td>\n",
       "      <td>刑事</td>\n",
       "      <td>判決</td>\n",
       "    </tr>\n",
       "    <tr>\n",
       "      <th>0</th>\n",
       "      <td>臺灣臺中地方法院</td>\n",
       "      <td>2016-03-24T00:00:00+08:00</td>\n",
       "      <td>2157</td>\n",
       "      <td>謝蔡錦銀意圖營利，聚眾賭博，累犯，處有期徒刑參月，如易科罰金，以新臺幣壹仟元折算壹日。扣案之...</td>\n",
       "      <td>105,中簡,355</td>\n",
       "      <td>賭博</td>\n",
       "      <td>刑事</td>\n",
       "      <td>判決</td>\n",
       "    </tr>\n",
       "    <tr>\n",
       "      <th>0</th>\n",
       "      <td>臺灣臺中地方法院</td>\n",
       "      <td>2016-03-28T00:00:00+08:00</td>\n",
       "      <td>2158</td>\n",
       "      <td>孫金華共同意圖營利，聚眾賭博，處有期徒刑貳月，如易科罰金，以新臺幣壹仟元折算壹日。扣案之六合...</td>\n",
       "      <td>105,中簡,356</td>\n",
       "      <td>賭博</td>\n",
       "      <td>刑事</td>\n",
       "      <td>判決</td>\n",
       "    </tr>\n",
       "    <tr>\n",
       "      <th>0</th>\n",
       "      <td>臺灣臺中地方法院</td>\n",
       "      <td>2016-02-02T00:00:00+08:00</td>\n",
       "      <td>2159</td>\n",
       "      <td>李佩芬在公眾得出入之場所賭博財物，處罰金新臺幣參仟元，如易服勞役，以新臺幣壹仟元折算壹日。扣...</td>\n",
       "      <td>105,中簡,35</td>\n",
       "      <td>賭博</td>\n",
       "      <td>刑事</td>\n",
       "      <td>判決</td>\n",
       "    </tr>\n",
       "    <tr>\n",
       "      <th>0</th>\n",
       "      <td>臺灣臺中地方法院</td>\n",
       "      <td>2016-04-27T00:00:00+08:00</td>\n",
       "      <td>2169</td>\n",
       "      <td>周立書意圖營利，聚眾賭博，處有期徒刑陸月，如易科罰金，以新臺幣壹仟元折算壹日。扣案如附表編號...</td>\n",
       "      <td>105,中簡,392</td>\n",
       "      <td>賭博</td>\n",
       "      <td>刑事</td>\n",
       "      <td>判決</td>\n",
       "    </tr>\n",
       "    <tr>\n",
       "      <th>0</th>\n",
       "      <td>臺灣臺中地方法院</td>\n",
       "      <td>2016-04-25T00:00:00+08:00</td>\n",
       "      <td>2171</td>\n",
       "      <td>陳麗鈴共同意圖營利，聚眾賭博，處有期徒刑參月，如易科罰金，以新臺幣壹仟元折算壹日。扣案之簽注...</td>\n",
       "      <td>105,中簡,395</td>\n",
       "      <td>賭博</td>\n",
       "      <td>刑事</td>\n",
       "      <td>判決</td>\n",
       "    </tr>\n",
       "    <tr>\n",
       "      <th>0</th>\n",
       "      <td>臺灣臺中地方法院</td>\n",
       "      <td>2016-03-15T00:00:00+08:00</td>\n",
       "      <td>2172</td>\n",
       "      <td>張榮祥共同意圖營利，聚眾賭博，處有期徒刑伍月，如易科罰金，以新臺幣壹仟元折算壹日。扣案如附表...</td>\n",
       "      <td>105,中簡,396</td>\n",
       "      <td>賭博</td>\n",
       "      <td>刑事</td>\n",
       "      <td>判決</td>\n",
       "    </tr>\n",
       "    <tr>\n",
       "      <th>0</th>\n",
       "      <td>臺灣臺中地方法院</td>\n",
       "      <td>2016-03-18T00:00:00+08:00</td>\n",
       "      <td>2173</td>\n",
       "      <td>謝志香共同意圖營利，聚眾賭博，處有期徒刑貳月，如易科罰金，以新臺幣壹仟元折算壹日。扣案如附表...</td>\n",
       "      <td>105,中簡,398</td>\n",
       "      <td>賭博</td>\n",
       "      <td>刑事</td>\n",
       "      <td>判決</td>\n",
       "    </tr>\n",
       "    <tr>\n",
       "      <th>0</th>\n",
       "      <td>臺灣臺中地方法院</td>\n",
       "      <td>2016-05-20T00:00:00+08:00</td>\n",
       "      <td>2174</td>\n",
       "      <td>李秋枝共同犯圖利聚眾賭博罪，處有期徒刑貳月，如易科罰金，以新臺幣壹仟元折算壹日；扣案之傳真機...</td>\n",
       "      <td>105,中簡,399</td>\n",
       "      <td>賭博</td>\n",
       "      <td>刑事</td>\n",
       "      <td>判決</td>\n",
       "    </tr>\n",
       "    <tr>\n",
       "      <th>0</th>\n",
       "      <td>臺灣臺中地方法院</td>\n",
       "      <td>2016-03-24T00:00:00+08:00</td>\n",
       "      <td>2177</td>\n",
       "      <td>甲○○共同意圖營利，聚眾賭博，累犯，處有期徒刑肆月，如易科罰金，以新臺幣壹仟元折算壹日。扣案...</td>\n",
       "      <td>105,中簡,409</td>\n",
       "      <td>賭博</td>\n",
       "      <td>刑事</td>\n",
       "      <td>判決</td>\n",
       "    </tr>\n",
       "    <tr>\n",
       "      <th>0</th>\n",
       "      <td>臺灣臺中地方法院</td>\n",
       "      <td>2016-01-14T00:00:00+08:00</td>\n",
       "      <td>2178</td>\n",
       "      <td>黃玟瑜意圖營利，聚眾賭博，處有期徒刑貳月，如易科罰金，以新臺幣壹仟元折算壹日。扣案之簽注單貳...</td>\n",
       "      <td>105,中簡,40</td>\n",
       "      <td>賭博</td>\n",
       "      <td>刑事</td>\n",
       "      <td>判決</td>\n",
       "    </tr>\n",
       "    <tr>\n",
       "      <th>0</th>\n",
       "      <td>臺灣臺中地方法院</td>\n",
       "      <td>2016-03-31T00:00:00+08:00</td>\n",
       "      <td>2179</td>\n",
       "      <td>陳金里意圖營利，聚眾賭博，處有期徒刑參月，如易科罰金，以新臺幣壹仟元折算壹日。扣案之下注簽單...</td>\n",
       "      <td>105,中簡,410</td>\n",
       "      <td>賭博</td>\n",
       "      <td>刑事</td>\n",
       "      <td>判決</td>\n",
       "    </tr>\n",
       "  </tbody>\n",
       "</table>\n",
       "</div>"
      ],
      "text/plain": [
       "      court                       date    id  \\\n",
       "0  臺灣臺中地方法院  2016-03-18T00:00:00+08:00  2126   \n",
       "0  臺灣臺中地方法院  2016-02-25T00:00:00+08:00  2128   \n",
       "0  臺灣臺中地方法院  2016-01-25T00:00:00+08:00  2129   \n",
       "0  臺灣臺中地方法院  2016-03-22T00:00:00+08:00  2135   \n",
       "0  臺灣臺中地方法院  2016-03-02T00:00:00+08:00  2136   \n",
       "0  臺灣臺中地方法院  2016-03-03T00:00:00+08:00  2138   \n",
       "0  臺灣臺中地方法院  2016-05-23T00:00:00+08:00  2139   \n",
       "0  臺灣臺中地方法院  2016-03-11T00:00:00+08:00  2145   \n",
       "0  臺灣臺中地方法院  2016-03-31T00:00:00+08:00  2156   \n",
       "0  臺灣臺中地方法院  2016-03-24T00:00:00+08:00  2157   \n",
       "0  臺灣臺中地方法院  2016-03-28T00:00:00+08:00  2158   \n",
       "0  臺灣臺中地方法院  2016-02-02T00:00:00+08:00  2159   \n",
       "0  臺灣臺中地方法院  2016-04-27T00:00:00+08:00  2169   \n",
       "0  臺灣臺中地方法院  2016-04-25T00:00:00+08:00  2171   \n",
       "0  臺灣臺中地方法院  2016-03-15T00:00:00+08:00  2172   \n",
       "0  臺灣臺中地方法院  2016-03-18T00:00:00+08:00  2173   \n",
       "0  臺灣臺中地方法院  2016-05-20T00:00:00+08:00  2174   \n",
       "0  臺灣臺中地方法院  2016-03-24T00:00:00+08:00  2177   \n",
       "0  臺灣臺中地方法院  2016-01-14T00:00:00+08:00  2178   \n",
       "0  臺灣臺中地方法院  2016-03-31T00:00:00+08:00  2179   \n",
       "\n",
       "                                            mainText          no reason sys  \\\n",
       "0  吳家源在公眾得出入之場所賭博財物，處罰金新臺幣伍仟元，如易服勞役，以新臺幣壹仟元折算壹日。扣...  105,中簡,277     賭博  刑事   \n",
       "0               賴穎學犯賭博罪，處罰金新臺幣肆仟元，如易服勞役，以新臺幣壹仟元折算壹日。  105,中簡,279     賭博  刑事   \n",
       "0         林葉月敏共同意圖營利，聚眾賭博，處有期徒刑貳月，如易科罰金，以新臺幣壹仟元折算壹日。   105,中簡,27     賭博  刑事   \n",
       "0  丁佳宏共同意圖營利，聚眾賭博，處有期徒刑參月，如易科罰金，以新臺幣壹仟元折算壹日。扣案之六合...  105,中簡,299     賭博  刑事   \n",
       "0  連惠芳共同意圖營利，聚眾賭博，處有期徒刑參月，如易科罰金，以新臺幣壹仟元折算壹日。扣案簽注單...  105,中簡,302     賭博  刑事   \n",
       "0  張惠寬共同意圖營利，聚眾賭博，處有期徒刑陸月，如易科罰金，以新臺幣壹仟元折算壹日。扣案之六合...  105,中簡,308     賭博  刑事   \n",
       "0  汪月惠意圖營利，聚眾賭博，處有期徒刑參月，如易科罰金，以新臺幣壹仟元折算壹日。扣案如附表所示...  105,中簡,311     賭博  刑事   \n",
       "0   陳文洋犯賭博罪，處罰金新臺幣捌仟元，如易服勞役，以新臺幣壹仟元折算壹日。扣案之簽注單壹張，沒收。  105,中簡,326     賭博  刑事   \n",
       "0  劉學仁意圖營利，聚眾賭博，處有期徒刑參月，如易科罰金，以新臺幣壹仟元折算壹日；扣案之六合彩簽...  105,中簡,354     賭博  刑事   \n",
       "0  謝蔡錦銀意圖營利，聚眾賭博，累犯，處有期徒刑參月，如易科罰金，以新臺幣壹仟元折算壹日。扣案之...  105,中簡,355     賭博  刑事   \n",
       "0  孫金華共同意圖營利，聚眾賭博，處有期徒刑貳月，如易科罰金，以新臺幣壹仟元折算壹日。扣案之六合...  105,中簡,356     賭博  刑事   \n",
       "0  李佩芬在公眾得出入之場所賭博財物，處罰金新臺幣參仟元，如易服勞役，以新臺幣壹仟元折算壹日。扣...   105,中簡,35     賭博  刑事   \n",
       "0  周立書意圖營利，聚眾賭博，處有期徒刑陸月，如易科罰金，以新臺幣壹仟元折算壹日。扣案如附表編號...  105,中簡,392     賭博  刑事   \n",
       "0  陳麗鈴共同意圖營利，聚眾賭博，處有期徒刑參月，如易科罰金，以新臺幣壹仟元折算壹日。扣案之簽注...  105,中簡,395     賭博  刑事   \n",
       "0  張榮祥共同意圖營利，聚眾賭博，處有期徒刑伍月，如易科罰金，以新臺幣壹仟元折算壹日。扣案如附表...  105,中簡,396     賭博  刑事   \n",
       "0  謝志香共同意圖營利，聚眾賭博，處有期徒刑貳月，如易科罰金，以新臺幣壹仟元折算壹日。扣案如附表...  105,中簡,398     賭博  刑事   \n",
       "0  李秋枝共同犯圖利聚眾賭博罪，處有期徒刑貳月，如易科罰金，以新臺幣壹仟元折算壹日；扣案之傳真機...  105,中簡,399     賭博  刑事   \n",
       "0  甲○○共同意圖營利，聚眾賭博，累犯，處有期徒刑肆月，如易科罰金，以新臺幣壹仟元折算壹日。扣案...  105,中簡,409     賭博  刑事   \n",
       "0  黃玟瑜意圖營利，聚眾賭博，處有期徒刑貳月，如易科罰金，以新臺幣壹仟元折算壹日。扣案之簽注單貳...   105,中簡,40     賭博  刑事   \n",
       "0  陳金里意圖營利，聚眾賭博，處有期徒刑參月，如易科罰金，以新臺幣壹仟元折算壹日。扣案之下注簽單...  105,中簡,410     賭博  刑事   \n",
       "\n",
       "  type  \n",
       "0   判決  \n",
       "0   判決  \n",
       "0   判決  \n",
       "0   判決  \n",
       "0   判決  \n",
       "0   判決  \n",
       "0   判決  \n",
       "0   判決  \n",
       "0   判決  \n",
       "0   判決  \n",
       "0   判決  \n",
       "0   判決  \n",
       "0   判決  \n",
       "0   判決  \n",
       "0   判決  \n",
       "0   判決  \n",
       "0   判決  \n",
       "0   判決  \n",
       "0   判決  \n",
       "0   判決  "
      ]
     },
     "execution_count": 9,
     "metadata": {},
     "output_type": "execute_result"
    }
   ],
   "source": [
    "df[df['reason'] == ('賭博')].iloc[100:120]"
   ]
  },
  {
   "cell_type": "code",
   "execution_count": null,
   "metadata": {},
   "outputs": [],
   "source": [
    "df[df['reason'] == ('公共危險')].iloc[20:30]"
   ]
  },
  {
   "cell_type": "code",
   "execution_count": null,
   "metadata": {},
   "outputs": [],
   "source": [
    "df[df['reason'] == ('竊盜')].iloc[1360:1380]"
   ]
  },
  {
   "cell_type": "code",
   "execution_count": null,
   "metadata": {},
   "outputs": [],
   "source": [
    "df[df['reason'] == ('賭博')].iloc[40:50]"
   ]
  },
  {
   "cell_type": "code",
   "execution_count": null,
   "metadata": {},
   "outputs": [],
   "source": [
    "df[df['reason'] == ('妨害公務')].iloc[210:220]"
   ]
  },
  {
   "cell_type": "code",
   "execution_count": null,
   "metadata": {},
   "outputs": [],
   "source": [
    "df[df['reason'] == ('公共危險')].iloc[4220:4240]"
   ]
  },
  {
   "cell_type": "code",
   "execution_count": null,
   "metadata": {},
   "outputs": [],
   "source": [
    "df[df['reason'] == ('竊盜')].iloc[760:780]"
   ]
  },
  {
   "cell_type": "code",
   "execution_count": null,
   "metadata": {},
   "outputs": [],
   "source": [
    "df[df['reason'] == ('傷害')].iloc[180:200]"
   ]
  },
  {
   "cell_type": "code",
   "execution_count": null,
   "metadata": {},
   "outputs": [],
   "source": [
    "df[df['reason'] == ('強盜')].iloc[60:80]"
   ]
  },
  {
   "cell_type": "code",
   "execution_count": null,
   "metadata": {},
   "outputs": [],
   "source": [
    "df[df['reason'] == ('侵占')].iloc[100:120]"
   ]
  },
  {
   "cell_type": "code",
   "execution_count": null,
   "metadata": {},
   "outputs": [],
   "source": [
    "df[df['reason'] == ('毀損')].iloc[60:80]"
   ]
  },
  {
   "cell_type": "code",
   "execution_count": null,
   "metadata": {},
   "outputs": [],
   "source": [
    "df[df['reason'] == ('毀棄損壞')].iloc[60:80]"
   ]
  },
  {
   "cell_type": "code",
   "execution_count": null,
   "metadata": {},
   "outputs": [],
   "source": [
    "df[df['reason'] == ('搶奪')].iloc[40:60]"
   ]
  },
  {
   "cell_type": "code",
   "execution_count": null,
   "metadata": {},
   "outputs": [],
   "source": [
    "df[df['reason'] == ('搶奪')].iloc[40:60]"
   ]
  },
  {
   "cell_type": "code",
   "execution_count": null,
   "metadata": {},
   "outputs": [],
   "source": [
    "df[df['reason'] == ('妨害名譽')].iloc[600:620]"
   ]
  },
  {
   "cell_type": "code",
   "execution_count": null,
   "metadata": {},
   "outputs": [],
   "source": [
    "df[df['reason'] == ('妨害自由')].iloc[140:160]"
   ]
  },
  {
   "cell_type": "code",
   "execution_count": null,
   "metadata": {},
   "outputs": [],
   "source": [
    "df[df['reason'] == ('詐欺')].iloc[980:1000]"
   ]
  },
  {
   "cell_type": "code",
   "execution_count": null,
   "metadata": {},
   "outputs": [],
   "source": [
    "df[df['reason'] == ('殺人未遂')].iloc[20:40]"
   ]
  },
  {
   "cell_type": "code",
   "execution_count": null,
   "metadata": {},
   "outputs": [],
   "source": [
    "df[df['reason'] == ('殺人')].iloc[0:20]"
   ]
  },
  {
   "cell_type": "code",
   "execution_count": null,
   "metadata": {},
   "outputs": [],
   "source": [
    "df[df['reason'] == ('偽造文書')].iloc[160:180]"
   ]
  },
  {
   "cell_type": "code",
   "execution_count": null,
   "metadata": {},
   "outputs": [],
   "source": []
  }
 ],
 "metadata": {
  "kernelspec": {
   "display_name": "Python 3",
   "language": "python",
   "name": "python3"
  },
  "language_info": {
   "codemirror_mode": {
    "name": "ipython",
    "version": 3
   },
   "file_extension": ".py",
   "mimetype": "text/x-python",
   "name": "python",
   "nbconvert_exporter": "python",
   "pygments_lexer": "ipython3",
   "version": "3.6.4"
  }
 },
 "nbformat": 4,
 "nbformat_minor": 2
}
